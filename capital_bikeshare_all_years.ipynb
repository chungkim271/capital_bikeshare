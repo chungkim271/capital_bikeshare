{
 "cells": [
  {
   "cell_type": "code",
   "execution_count": 183,
   "metadata": {},
   "outputs": [
    {
     "name": "stdout",
     "output_type": "stream",
     "text": [
      "The autoreload extension is already loaded. To reload it, use:\n",
      "  %reload_ext autoreload\n"
     ]
    }
   ],
   "source": [
    "import numpy as np\n",
    "import pandas as pd\n",
    "import seaborn as sns\n",
    "from matplotlib import pyplot as plt\n",
    "import os\n",
    "from pathlib import Path\n",
    "%matplotlib inline\n",
    "%load_ext autoreload\n",
    "%autoreload 2"
   ]
  },
  {
   "cell_type": "code",
   "execution_count": 184,
   "metadata": {},
   "outputs": [
    {
     "name": "stdout",
     "output_type": "stream",
     "text": [
      "In trips(start) but not in stations: [32031.0, 31008.0, 32051.0, 0.0]\n",
      "In stations but not in trips(start) [31325.0, 32901.0]\n",
      "In trips(end) but not in stations: [0.0, 32051.0, 31008.0, 32031.0]\n",
      "In stations but not in start [31718.0, 31325.0, 32901.0]\n"
     ]
    }
   ],
   "source": [
    "from modules import preprocess_data\n",
    "since2019 = [Path(os.getcwd(), 'data', f) for f in os.listdir('data') if f.startswith(('2019'))]\n",
    "trips = preprocess_data.master_data(since2019)"
   ]
  },
  {
   "cell_type": "code",
   "execution_count": 185,
   "metadata": {},
   "outputs": [
    {
     "name": "stdout",
     "output_type": "stream",
     "text": [
      "start_station : 648 unique values\n",
      "---------------------\n",
      "end_station : 647 unique values\n",
      "---------------------\n",
      "bike_number : 6053 unique values\n",
      "---------------------\n",
      "member_type : \n",
      "Member    2955802\n",
      "Casual     440863\n",
      "Name: member_type, dtype: int64\n",
      "---------------------\n",
      "date : 365 unique values\n",
      "---------------------\n",
      "holiday : \n",
      "False    3335505\n",
      "True       61160\n",
      "Name: holiday, dtype: int64\n",
      "---------------------\n",
      "weekend : \n",
      "False    2996883\n",
      "True      399782\n",
      "Name: weekend, dtype: int64\n",
      "---------------------\n"
     ]
    }
   ],
   "source": [
    "def print_unique_values(df, show_limit = 20):\n",
    "    for col in df.columns:\n",
    "        if df[col].dtypes == 'O':\n",
    "            unique_values = df[col].unique()\n",
    "            if len(unique_values) > show_limit:\n",
    "                print(\"%s : %s unique values\" % (col, len(unique_values)))\n",
    "            else:\n",
    "                print(\"%s : \\n%s\" % (col, df[col].value_counts()))\n",
    "            print('---------------------')\n",
    "\n",
    "print_unique_values(trips)"
   ]
  },
  {
   "cell_type": "code",
   "execution_count": 194,
   "metadata": {},
   "outputs": [],
   "source": [
    "# sample for scripting\n",
    "df = trips.sample(200000)"
   ]
  },
  {
   "cell_type": "code",
   "execution_count": 216,
   "metadata": {},
   "outputs": [],
   "source": [
    "df['duration_m'] = df['duration']/60"
   ]
  },
  {
   "cell_type": "markdown",
   "metadata": {},
   "source": [
    "# Explaratory Data Analysis\n",
    "\n",
    "    * Basic facts\n",
    "        - Number of trips\n",
    "        - Number of stations\n",
    "        - Number of bikes\n",
    "        - Most popular routes\n",
    "        - Most popular stations\n",
    "    * Number of trips, duration by:\n",
    "        - Rider type\n",
    "        - Time of the trip\n",
    "            - Month\n",
    "            - Hour\n",
    "    * Stations\n",
    "        - locations\n",
    "    * Understanding demand\n",
    "        - \n",
    "    * Over time:\n",
    "        - Usage over time\n",
    "        - Station expansion over time"
   ]
  },
  {
   "cell_type": "markdown",
   "metadata": {},
   "source": [
    "## Basic Facts\n",
    "\n",
    "### Number of trips "
   ]
  },
  {
   "cell_type": "code",
   "execution_count": 197,
   "metadata": {},
   "outputs": [
    {
     "name": "stdout",
     "output_type": "stream",
     "text": [
      "Total number of trips in 2019: 200,000\n"
     ]
    },
    {
     "data": {
      "text/html": [
       "<div>\n",
       "<style scoped>\n",
       "    .dataframe tbody tr th:only-of-type {\n",
       "        vertical-align: middle;\n",
       "    }\n",
       "\n",
       "    .dataframe tbody tr th {\n",
       "        vertical-align: top;\n",
       "    }\n",
       "\n",
       "    .dataframe thead th {\n",
       "        text-align: right;\n",
       "    }\n",
       "</style>\n",
       "<table border=\"1\" class=\"dataframe\">\n",
       "  <thead>\n",
       "    <tr style=\"text-align: right;\">\n",
       "      <th></th>\n",
       "      <th></th>\n",
       "      <th>trips</th>\n",
       "    </tr>\n",
       "    <tr>\n",
       "      <th>year</th>\n",
       "      <th>month</th>\n",
       "      <th></th>\n",
       "    </tr>\n",
       "  </thead>\n",
       "  <tbody>\n",
       "    <tr>\n",
       "      <th rowspan=\"12\" valign=\"top\">2019.0</th>\n",
       "      <th>1.0</th>\n",
       "      <td>8896</td>\n",
       "    </tr>\n",
       "    <tr>\n",
       "      <th>2.0</th>\n",
       "      <td>9182</td>\n",
       "    </tr>\n",
       "    <tr>\n",
       "      <th>3.0</th>\n",
       "      <td>14972</td>\n",
       "    </tr>\n",
       "    <tr>\n",
       "      <th>4.0</th>\n",
       "      <td>20330</td>\n",
       "    </tr>\n",
       "    <tr>\n",
       "      <th>5.0</th>\n",
       "      <td>19896</td>\n",
       "    </tr>\n",
       "    <tr>\n",
       "      <th>6.0</th>\n",
       "      <td>20684</td>\n",
       "    </tr>\n",
       "    <tr>\n",
       "      <th>7.0</th>\n",
       "      <td>21230</td>\n",
       "    </tr>\n",
       "    <tr>\n",
       "      <th>8.0</th>\n",
       "      <td>21109</td>\n",
       "    </tr>\n",
       "    <tr>\n",
       "      <th>9.0</th>\n",
       "      <td>21114</td>\n",
       "    </tr>\n",
       "    <tr>\n",
       "      <th>10.0</th>\n",
       "      <td>19925</td>\n",
       "    </tr>\n",
       "    <tr>\n",
       "      <th>11.0</th>\n",
       "      <td>13250</td>\n",
       "    </tr>\n",
       "    <tr>\n",
       "      <th>12.0</th>\n",
       "      <td>9412</td>\n",
       "    </tr>\n",
       "  </tbody>\n",
       "</table>\n",
       "</div>"
      ],
      "text/plain": [
       "              trips\n",
       "year   month       \n",
       "2019.0 1.0     8896\n",
       "       2.0     9182\n",
       "       3.0    14972\n",
       "       4.0    20330\n",
       "       5.0    19896\n",
       "       6.0    20684\n",
       "       7.0    21230\n",
       "       8.0    21109\n",
       "       9.0    21114\n",
       "       10.0   19925\n",
       "       11.0   13250\n",
       "       12.0    9412"
      ]
     },
     "execution_count": 197,
     "metadata": {},
     "output_type": "execute_result"
    },
    {
     "data": {
      "image/png": "[encoded data removed]",
      "text/plain": [
       "<Figure size 432x288 with 1 Axes>"
      ]
     },
     "metadata": {
      "needs_background": "light"
     },
     "output_type": "display_data"
    }
   ],
   "source": [
    "print(\"Total number of trips in 2019: {:,}\".format(df.shape[0]))\n",
    "sns.countplot(data=df, x='month')\n",
    "df.groupby(['year', 'month']).size().rename('trips').to_frame()"
   ]
  },
  {
   "cell_type": "markdown",
   "metadata": {},
   "source": [
    "More rides during warmer months\n",
    "\n",
    "### Number of stations in use"
   ]
  },
  {
   "cell_type": "code",
   "execution_count": 198,
   "metadata": {},
   "outputs": [
    {
     "name": "stdout",
     "output_type": "stream",
     "text": [
      "Number of stations in use > 0: 574\n"
     ]
    }
   ],
   "source": [
    "print(\"Number of stations in use > 0: {:,}\".format(len(df.station_id.unique())))"
   ]
  },
  {
   "cell_type": "markdown",
   "metadata": {},
   "source": [
    "### Number of bikes in use"
   ]
  },
  {
   "cell_type": "code",
   "execution_count": 199,
   "metadata": {},
   "outputs": [
    {
     "name": "stdout",
     "output_type": "stream",
     "text": [
      "Number of bikes in use> 0: 5,924\n"
     ]
    }
   ],
   "source": [
    "print(\"Number of bikes in use> 0: {:,}\".format(len(df.bike_number.unique())))"
   ]
  },
  {
   "cell_type": "markdown",
   "metadata": {},
   "source": [
    "### Most popular routes"
   ]
  },
  {
   "cell_type": "code",
   "execution_count": 200,
   "metadata": {},
   "outputs": [
    {
     "data": {
      "text/html": [
       "<div>\n",
       "<style scoped>\n",
       "    .dataframe tbody tr th:only-of-type {\n",
       "        vertical-align: middle;\n",
       "    }\n",
       "\n",
       "    .dataframe tbody tr th {\n",
       "        vertical-align: top;\n",
       "    }\n",
       "\n",
       "    .dataframe thead th {\n",
       "        text-align: right;\n",
       "    }\n",
       "</style>\n",
       "<table border=\"1\" class=\"dataframe\">\n",
       "  <thead>\n",
       "    <tr style=\"text-align: right;\">\n",
       "      <th></th>\n",
       "      <th></th>\n",
       "      <th>trips</th>\n",
       "    </tr>\n",
       "    <tr>\n",
       "      <th>start_station</th>\n",
       "      <th>end_station</th>\n",
       "      <th></th>\n",
       "    </tr>\n",
       "  </thead>\n",
       "  <tbody>\n",
       "    <tr>\n",
       "      <th>Smithsonian-National Mall / Jefferson Dr &amp; 12th St SW</th>\n",
       "      <th>Smithsonian-National Mall / Jefferson Dr &amp; 12th St SW</th>\n",
       "      <td>312</td>\n",
       "    </tr>\n",
       "    <tr>\n",
       "      <th>Columbus Circle / Union Station</th>\n",
       "      <th>6th &amp; H St NE</th>\n",
       "      <td>267</td>\n",
       "    </tr>\n",
       "    <tr>\n",
       "      <th>6th &amp; H St NE</th>\n",
       "      <th>Columbus Circle / Union Station</th>\n",
       "      <td>223</td>\n",
       "    </tr>\n",
       "    <tr>\n",
       "      <th>Columbus Circle / Union Station</th>\n",
       "      <th>8th &amp; F St NE</th>\n",
       "      <td>216</td>\n",
       "    </tr>\n",
       "    <tr>\n",
       "      <th>4th St &amp; Madison Dr NW</th>\n",
       "      <th>4th St &amp; Madison Dr NW</th>\n",
       "      <td>210</td>\n",
       "    </tr>\n",
       "    <tr>\n",
       "      <th>Jefferson Dr &amp; 14th St SW</th>\n",
       "      <th>Jefferson Dr &amp; 14th St SW</th>\n",
       "      <td>198</td>\n",
       "    </tr>\n",
       "    <tr>\n",
       "      <th>17th St &amp; Independence Ave SW</th>\n",
       "      <th>Lincoln Memorial</th>\n",
       "      <td>197</td>\n",
       "    </tr>\n",
       "    <tr>\n",
       "      <th>Lincoln Memorial</th>\n",
       "      <th>Jefferson Memorial</th>\n",
       "      <td>191</td>\n",
       "    </tr>\n",
       "    <tr>\n",
       "      <th>8th &amp; F St NE</th>\n",
       "      <th>Columbus Circle / Union Station</th>\n",
       "      <td>182</td>\n",
       "    </tr>\n",
       "    <tr>\n",
       "      <th>Jefferson Dr &amp; 14th St SW</th>\n",
       "      <th>Lincoln Memorial</th>\n",
       "      <td>179</td>\n",
       "    </tr>\n",
       "    <tr>\n",
       "      <th>Smithsonian-National Mall / Jefferson Dr &amp; 12th St SW</th>\n",
       "      <th>Lincoln Memorial</th>\n",
       "      <td>164</td>\n",
       "    </tr>\n",
       "    <tr>\n",
       "      <th>14th &amp; Irving St NW</th>\n",
       "      <th>11th &amp; Girard St NW</th>\n",
       "      <td>157</td>\n",
       "    </tr>\n",
       "    <tr>\n",
       "      <th>15th St &amp; Constitution Ave NW</th>\n",
       "      <th>15th St &amp; Constitution Ave NW</th>\n",
       "      <td>153</td>\n",
       "    </tr>\n",
       "    <tr>\n",
       "      <th>13th &amp; H St NE</th>\n",
       "      <th>Columbus Circle / Union Station</th>\n",
       "      <td>152</td>\n",
       "    </tr>\n",
       "    <tr>\n",
       "      <th>Lincoln Memorial</th>\n",
       "      <th>Lincoln Memorial</th>\n",
       "      <td>151</td>\n",
       "    </tr>\n",
       "    <tr>\n",
       "      <th>17th St &amp; Independence Ave SW</th>\n",
       "      <th>17th St &amp; Independence Ave SW</th>\n",
       "      <td>150</td>\n",
       "    </tr>\n",
       "    <tr>\n",
       "      <th>Maryland Ave &amp; E St NE</th>\n",
       "      <th>Columbus Circle / Union Station</th>\n",
       "      <td>149</td>\n",
       "    </tr>\n",
       "    <tr>\n",
       "      <th>Henry Bacon Dr &amp; Lincoln Memorial Circle NW</th>\n",
       "      <th>Henry Bacon Dr &amp; Lincoln Memorial Circle NW</th>\n",
       "      <td>149</td>\n",
       "    </tr>\n",
       "    <tr>\n",
       "      <th>Eastern Market Metro / Pennsylvania Ave &amp; 7th St SE</th>\n",
       "      <th>Lincoln Park / 13th &amp; East Capitol St NE</th>\n",
       "      <td>143</td>\n",
       "    </tr>\n",
       "    <tr>\n",
       "      <th>Lincoln Park / 13th &amp; East Capitol St NE</th>\n",
       "      <th>Eastern Market Metro / Pennsylvania Ave &amp; 7th St SE</th>\n",
       "      <td>141</td>\n",
       "    </tr>\n",
       "  </tbody>\n",
       "</table>\n",
       "</div>"
      ],
      "text/plain": [
       "                                                                                                       trips\n",
       "start_station                                      end_station                                              \n",
       "Smithsonian-National Mall / Jefferson Dr & 12th... Smithsonian-National Mall / Jefferson Dr & 12th...    312\n",
       "Columbus Circle / Union Station                    6th & H St NE                                         267\n",
       "6th & H St NE                                      Columbus Circle / Union Station                       223\n",
       "Columbus Circle / Union Station                    8th & F St NE                                         216\n",
       "4th St & Madison Dr NW                             4th St & Madison Dr NW                                210\n",
       "Jefferson Dr & 14th St SW                          Jefferson Dr & 14th St SW                             198\n",
       "17th St & Independence Ave SW                      Lincoln Memorial                                      197\n",
       "Lincoln Memorial                                   Jefferson Memorial                                    191\n",
       "8th & F St NE                                      Columbus Circle / Union Station                       182\n",
       "Jefferson Dr & 14th St SW                          Lincoln Memorial                                      179\n",
       "Smithsonian-National Mall / Jefferson Dr & 12th... Lincoln Memorial                                      164\n",
       "14th & Irving St NW                                11th & Girard St NW                                   157\n",
       "15th St & Constitution Ave NW                      15th St & Constitution Ave NW                         153\n",
       "13th & H St NE                                     Columbus Circle / Union Station                       152\n",
       "Lincoln Memorial                                   Lincoln Memorial                                      151\n",
       "17th St & Independence Ave SW                      17th St & Independence Ave SW                         150\n",
       "Maryland Ave & E St NE                             Columbus Circle / Union Station                       149\n",
       "Henry Bacon Dr & Lincoln Memorial Circle NW        Henry Bacon Dr & Lincoln Memorial Circle NW           149\n",
       "Eastern Market Metro / Pennsylvania Ave & 7th S... Lincoln Park / 13th & East Capitol St NE              143\n",
       "Lincoln Park / 13th & East Capitol St NE           Eastern Market Metro / Pennsylvania Ave & 7th S...    141"
      ]
     },
     "execution_count": 200,
     "metadata": {},
     "output_type": "execute_result"
    }
   ],
   "source": [
    "popular_routes = df.groupby(['start_station', 'end_station']).size().rename('trips').to_frame()\n",
    "popular_routes.sort_values('trips', ascending=False).head(20)"
   ]
  },
  {
   "cell_type": "markdown",
   "metadata": {},
   "source": [
    ">Mostly around the mall and downtown"
   ]
  },
  {
   "cell_type": "markdown",
   "metadata": {},
   "source": [
    "## Most popular stations by either starting or ending a trip"
   ]
  },
  {
   "cell_type": "code",
   "execution_count": 428,
   "metadata": {},
   "outputs": [
    {
     "data": {
      "text/html": [
       "<div>\n",
       "<style scoped>\n",
       "    .dataframe tbody tr th:only-of-type {\n",
       "        vertical-align: middle;\n",
       "    }\n",
       "\n",
       "    .dataframe tbody tr th {\n",
       "        vertical-align: top;\n",
       "    }\n",
       "\n",
       "    .dataframe thead th {\n",
       "        text-align: right;\n",
       "    }\n",
       "</style>\n",
       "<table border=\"1\" class=\"dataframe\">\n",
       "  <thead>\n",
       "    <tr style=\"text-align: right;\">\n",
       "      <th></th>\n",
       "      <th>station</th>\n",
       "      <th>start</th>\n",
       "      <th>end</th>\n",
       "      <th>usage</th>\n",
       "    </tr>\n",
       "    <tr>\n",
       "      <th>id</th>\n",
       "      <th></th>\n",
       "      <th></th>\n",
       "      <th></th>\n",
       "      <th></th>\n",
       "    </tr>\n",
       "  </thead>\n",
       "  <tbody>\n",
       "    <tr>\n",
       "      <th>31623.0</th>\n",
       "      <td>Columbus Circle / Union Station</td>\n",
       "      <td>3415.0</td>\n",
       "      <td>3789.0</td>\n",
       "      <td>7204.0</td>\n",
       "    </tr>\n",
       "    <tr>\n",
       "      <th>31201.0</th>\n",
       "      <td>15th &amp; P St NW</td>\n",
       "      <td>2021.0</td>\n",
       "      <td>2288.0</td>\n",
       "      <td>4309.0</td>\n",
       "    </tr>\n",
       "    <tr>\n",
       "      <th>31258.0</th>\n",
       "      <td>Lincoln Memorial</td>\n",
       "      <td>1975.0</td>\n",
       "      <td>2119.0</td>\n",
       "      <td>4094.0</td>\n",
       "    </tr>\n",
       "    <tr>\n",
       "      <th>31289.0</th>\n",
       "      <td>Henry Bacon Dr &amp; Lincoln Memorial Circle NW</td>\n",
       "      <td>2034.0</td>\n",
       "      <td>1992.0</td>\n",
       "      <td>4026.0</td>\n",
       "    </tr>\n",
       "    <tr>\n",
       "      <th>31288.0</th>\n",
       "      <td>4th St &amp; Madison Dr NW</td>\n",
       "      <td>1946.0</td>\n",
       "      <td>1965.0</td>\n",
       "      <td>3911.0</td>\n",
       "    </tr>\n",
       "    <tr>\n",
       "      <th>31248.0</th>\n",
       "      <td>Smithsonian-National Mall / Jefferson Dr &amp; 12t...</td>\n",
       "      <td>1835.0</td>\n",
       "      <td>2035.0</td>\n",
       "      <td>3870.0</td>\n",
       "    </tr>\n",
       "    <tr>\n",
       "      <th>31247.0</th>\n",
       "      <td>Jefferson Dr &amp; 14th St SW</td>\n",
       "      <td>1869.0</td>\n",
       "      <td>1990.0</td>\n",
       "      <td>3859.0</td>\n",
       "    </tr>\n",
       "    <tr>\n",
       "      <th>31200.0</th>\n",
       "      <td>Massachusetts Ave &amp; Dupont Circle NW</td>\n",
       "      <td>1718.0</td>\n",
       "      <td>2128.0</td>\n",
       "      <td>3846.0</td>\n",
       "    </tr>\n",
       "    <tr>\n",
       "      <th>31229.0</th>\n",
       "      <td>New Hampshire Ave &amp; T St NW</td>\n",
       "      <td>2037.0</td>\n",
       "      <td>1785.0</td>\n",
       "      <td>3822.0</td>\n",
       "    </tr>\n",
       "    <tr>\n",
       "      <th>31603.0</th>\n",
       "      <td>1st &amp; M St NE</td>\n",
       "      <td>1881.0</td>\n",
       "      <td>1897.0</td>\n",
       "      <td>3778.0</td>\n",
       "    </tr>\n",
       "    <tr>\n",
       "      <th>31101.0</th>\n",
       "      <td>14th &amp; U St NW</td>\n",
       "      <td>1566.0</td>\n",
       "      <td>1910.0</td>\n",
       "      <td>3476.0</td>\n",
       "    </tr>\n",
       "    <tr>\n",
       "      <th>31613.0</th>\n",
       "      <td>Eastern Market Metro / Pennsylvania Ave &amp; 7th ...</td>\n",
       "      <td>1718.0</td>\n",
       "      <td>1651.0</td>\n",
       "      <td>3369.0</td>\n",
       "    </tr>\n",
       "    <tr>\n",
       "      <th>31124.0</th>\n",
       "      <td>14th &amp; Irving St NW</td>\n",
       "      <td>2123.0</td>\n",
       "      <td>1132.0</td>\n",
       "      <td>3255.0</td>\n",
       "    </tr>\n",
       "    <tr>\n",
       "      <th>31241.0</th>\n",
       "      <td>Thomas Circle</td>\n",
       "      <td>1660.0</td>\n",
       "      <td>1428.0</td>\n",
       "      <td>3088.0</td>\n",
       "    </tr>\n",
       "    <tr>\n",
       "      <th>31249.0</th>\n",
       "      <td>Jefferson Memorial</td>\n",
       "      <td>1505.0</td>\n",
       "      <td>1580.0</td>\n",
       "      <td>3085.0</td>\n",
       "    </tr>\n",
       "    <tr>\n",
       "      <th>31203.0</th>\n",
       "      <td>14th &amp; Rhode Island Ave NW</td>\n",
       "      <td>1372.0</td>\n",
       "      <td>1480.0</td>\n",
       "      <td>2852.0</td>\n",
       "    </tr>\n",
       "    <tr>\n",
       "      <th>31627.0</th>\n",
       "      <td>3rd &amp; M St NE</td>\n",
       "      <td>1347.0</td>\n",
       "      <td>1379.0</td>\n",
       "      <td>2726.0</td>\n",
       "    </tr>\n",
       "    <tr>\n",
       "      <th>31230.0</th>\n",
       "      <td>Metro Center / 12th &amp; G St NW</td>\n",
       "      <td>1216.0</td>\n",
       "      <td>1496.0</td>\n",
       "      <td>2712.0</td>\n",
       "    </tr>\n",
       "    <tr>\n",
       "      <th>31321.0</th>\n",
       "      <td>15th St &amp; Constitution Ave NW</td>\n",
       "      <td>1292.0</td>\n",
       "      <td>1419.0</td>\n",
       "      <td>2711.0</td>\n",
       "    </tr>\n",
       "    <tr>\n",
       "      <th>31290.0</th>\n",
       "      <td>17th St &amp; Independence Ave SW</td>\n",
       "      <td>1390.0</td>\n",
       "      <td>1309.0</td>\n",
       "      <td>2699.0</td>\n",
       "    </tr>\n",
       "  </tbody>\n",
       "</table>\n",
       "</div>"
      ],
      "text/plain": [
       "                                                   station   start     end  \\\n",
       "id                                                                           \n",
       "31623.0                    Columbus Circle / Union Station  3415.0  3789.0   \n",
       "31201.0                                     15th & P St NW  2021.0  2288.0   \n",
       "31258.0                                   Lincoln Memorial  1975.0  2119.0   \n",
       "31289.0        Henry Bacon Dr & Lincoln Memorial Circle NW  2034.0  1992.0   \n",
       "31288.0                             4th St & Madison Dr NW  1946.0  1965.0   \n",
       "31248.0  Smithsonian-National Mall / Jefferson Dr & 12t...  1835.0  2035.0   \n",
       "31247.0                          Jefferson Dr & 14th St SW  1869.0  1990.0   \n",
       "31200.0               Massachusetts Ave & Dupont Circle NW  1718.0  2128.0   \n",
       "31229.0                        New Hampshire Ave & T St NW  2037.0  1785.0   \n",
       "31603.0                                      1st & M St NE  1881.0  1897.0   \n",
       "31101.0                                     14th & U St NW  1566.0  1910.0   \n",
       "31613.0  Eastern Market Metro / Pennsylvania Ave & 7th ...  1718.0  1651.0   \n",
       "31124.0                                14th & Irving St NW  2123.0  1132.0   \n",
       "31241.0                                      Thomas Circle  1660.0  1428.0   \n",
       "31249.0                                 Jefferson Memorial  1505.0  1580.0   \n",
       "31203.0                         14th & Rhode Island Ave NW  1372.0  1480.0   \n",
       "31627.0                                      3rd & M St NE  1347.0  1379.0   \n",
       "31230.0                      Metro Center / 12th & G St NW  1216.0  1496.0   \n",
       "31321.0                      15th St & Constitution Ave NW  1292.0  1419.0   \n",
       "31290.0                      17th St & Independence Ave SW  1390.0  1309.0   \n",
       "\n",
       "          usage  \n",
       "id               \n",
       "31623.0  7204.0  \n",
       "31201.0  4309.0  \n",
       "31258.0  4094.0  \n",
       "31289.0  4026.0  \n",
       "31288.0  3911.0  \n",
       "31248.0  3870.0  \n",
       "31247.0  3859.0  \n",
       "31200.0  3846.0  \n",
       "31229.0  3822.0  \n",
       "31603.0  3778.0  \n",
       "31101.0  3476.0  \n",
       "31613.0  3369.0  \n",
       "31124.0  3255.0  \n",
       "31241.0  3088.0  \n",
       "31249.0  3085.0  \n",
       "31203.0  2852.0  \n",
       "31627.0  2726.0  \n",
       "31230.0  2712.0  \n",
       "31321.0  2711.0  \n",
       "31290.0  2699.0  "
      ]
     },
     "execution_count": 428,
     "metadata": {},
     "output_type": "execute_result"
    }
   ],
   "source": [
    "start = df.groupby(['start_station_id', 'start_station']).size().rename('start').astype(int)\n",
    "end = df.groupby(['end_station_id', 'end_station']).size().rename('end').astype(int)\n",
    "\n",
    "start.index.levels[0].name = 'id'\n",
    "start.index.levels[1].name = 'station'\n",
    "end.index.levels[0].name = 'id'\n",
    "end.index.levels[1].name = 'station'\n",
    "\n",
    "s = pd.merge(start, end, 'outer', left_index=True, right_index=True)\n",
    "\n",
    "# a peak at stations_use indicates that some station id has multiple station names\n",
    "# probably slightly different versions of the station names have been recorded over time in trips data\n",
    "s1 = s.droplevel(1, axis=0)\n",
    "s1 = s1.groupby(s1.index).sum()\n",
    "\n",
    "s2 = s.reset_index('station')[['station']]\n",
    "s2 = s2.groupby(s2.index).apply(lambda x: x.iloc[0,]) # pick the value from the first row\n",
    "stations_use = pd.concat([s2, s1], axis=1)\n",
    "\n",
    "# some start values and some end values (for different indices) will be NaN because\n",
    "# some stations only started trips or ended trips. Replace with 0.\n",
    "stations_use['start'] = stations_use['start'].fillna(0)\n",
    "stations_use['end'] = stations_use['end'].fillna(0)\n",
    "stations_use['usage'] = stations_use['start'] + stations_use['end']\n",
    "\n",
    "stations_use = stations_use.sort_values('usage', ascending=False)\n",
    "stations_use.head(20)"
   ]
  },
  {
   "cell_type": "markdown",
   "metadata": {},
   "source": [
    "# Trips and Duration"
   ]
  },
  {
   "cell_type": "markdown",
   "metadata": {},
   "source": [
    "### Trips by Member type"
   ]
  },
  {
   "cell_type": "code",
   "execution_count": 214,
   "metadata": {},
   "outputs": [
    {
     "data": {
      "text/plain": [
       "[Text(0, 0.5, 'Percent')]"
      ]
     },
     "execution_count": 214,
     "metadata": {},
     "output_type": "execute_result"
    },
    {
     "data": {
      "image/png": "[encoded data removed]",
      "text/plain": [
       "<Figure size 432x288 with 1 Axes>"
      ]
     },
     "metadata": {
      "needs_background": "light"
     },
     "output_type": "display_data"
    }
   ],
   "source": [
    "df_member = df.groupby('member_type').apply(lambda x: len(x)/len(df)*100)\n",
    "df_member\n",
    "ax = sns.barplot(x=df_member.index, y=df_member.values)\n",
    "ax.set(ylabel=\"Percent\")"
   ]
  },
  {
   "cell_type": "markdown",
   "metadata": {},
   "source": [
    "> \\>80% of the trips are taken by members"
   ]
  },
  {
   "cell_type": "markdown",
   "metadata": {},
   "source": [
    "## Duration by Member Type"
   ]
  },
  {
   "cell_type": "code",
   "execution_count": 219,
   "metadata": {},
   "outputs": [
    {
     "data": {
      "text/plain": [
       "<matplotlib.axes._subplots.AxesSubplot at 0x2b7fbee10>"
      ]
     },
     "execution_count": 219,
     "metadata": {},
     "output_type": "execute_result"
    },
    {
     "data": {
      "image/png": "[encoded data removed]",
      "text/plain": [
       "<Figure size 432x288 with 1 Axes>"
      ]
     },
     "metadata": {
      "needs_background": "light"
     },
     "output_type": "display_data"
    }
   ],
   "source": [
    "sns.barplot(x='member_type', y='duration_m', data=df)"
   ]
  },
  {
   "cell_type": "markdown",
   "metadata": {},
   "source": [
    "> The average trip duration in minute shows that casual riders have much longer trips than members, 40 mins vs 15 mins\n",
    "\n",
    "Capital Bikeshare has a pricing scheme where the first 30 mins is free for members and a some price for casual riders, and the price for an additional 30 min block goes up exponentially, starting at \\\\$2 and capping at \\\\$8 after an hour and a half. For instance, for memebrs who pay a monthly fee, the first 30 mins is \\\\$0, the second 30 mins \\\\$2, the next 30 mins \\\\$4, and \\\\$8 for every additional 30 mins beyond that. The inconvenience notwithstanding, it's most economical to return the bike to a station within 30 minutes and check the same bike out if the destination is more than 30 minutes away \n",
    "\n",
    "Let's break duration to 30 min blocks"
   ]
  },
  {
   "cell_type": "code",
   "execution_count": 224,
   "metadata": {},
   "outputs": [],
   "source": [
    "cutoffs = [0, 30, 60, 90, np.Inf]\n",
    "df['duration_m_cat'] = pd.cut(df.duration_m, cutoffs, right = False)"
   ]
  },
  {
   "cell_type": "code",
   "execution_count": 225,
   "metadata": {},
   "outputs": [
    {
     "data": {
      "text/plain": [
       "<matplotlib.axes._subplots.AxesSubplot at 0x47bd9d940>"
      ]
     },
     "execution_count": 225,
     "metadata": {},
     "output_type": "execute_result"
    },
    {
     "data": {
      "image/png": "[encoded data removed]",
      "text/plain": [
       "<Figure size 864x360 with 2 Axes>"
      ]
     },
     "metadata": {
      "needs_background": "light"
     },
     "output_type": "display_data"
    }
   ],
   "source": [
    "fig, ax = plt.subplots(2, 1, figsize=(12, 5))\n",
    "sns.countplot(x='duration_m_cat', data=df.query('member_type==\"Member\"'), ax=ax[0])\n",
    "sns.countplot(x='duration_m_cat', data=df.query('member_type==\"Casual\"'), ax=ax[1])"
   ]
  },
  {
   "cell_type": "markdown",
   "metadata": {},
   "source": [
    "> A considerable share of casual trips are over 1 hour, indicating either casual riders are not price sensitive or don't understand the incremental pricing scheme"
   ]
  },
  {
   "cell_type": "markdown",
   "metadata": {},
   "source": [
    "## By Trip Start Time\n",
    "\n",
    "Because members and casual riders clearly display different usage, I'll analyze them separately. Looking at the trips by time further shows that members and casual riders have distinctive usage patterns.\n",
    "\n",
    "### Hour"
   ]
  },
  {
   "cell_type": "code",
   "execution_count": 229,
   "metadata": {},
   "outputs": [
    {
     "data": {
      "text/plain": [
       "<matplotlib.axes._subplots.AxesSubplot at 0x14e4f0908>"
      ]
     },
     "execution_count": 229,
     "metadata": {},
     "output_type": "execute_result"
    },
    {
     "data": {
      "image/png": "[encoded data removed]",
      "text/plain": [
       "<Figure size 648x432 with 2 Axes>"
      ]
     },
     "metadata": {
      "needs_background": "light"
     },
     "output_type": "display_data"
    }
   ],
   "source": [
    "figsize, ax = plt.subplots(2, 1, figsize=(9, 6))\n",
    "sns.countplot(x='hour', data=df.query('member_type==\"Member\"'), ax=ax[0])\n",
    "sns.countplot(x='hour', data=df.query('member_type==\"Casual\"'), ax=ax[1])"
   ]
  },
  {
   "cell_type": "markdown",
   "metadata": {},
   "source": [
    "> Member usage peak during commute times while casual usage is normally distributed during the day"
   ]
  },
  {
   "cell_type": "markdown",
   "metadata": {},
   "source": [
    "### Month"
   ]
  },
  {
   "cell_type": "code",
   "execution_count": 230,
   "metadata": {},
   "outputs": [
    {
     "data": {
      "text/plain": [
       "<matplotlib.axes._subplots.AxesSubplot at 0x481094358>"
      ]
     },
     "execution_count": 230,
     "metadata": {},
     "output_type": "execute_result"
    },
    {
     "data": {
      "image/png": "[encoded data removed]",
      "text/plain": [
       "<Figure size 648x432 with 2 Axes>"
      ]
     },
     "metadata": {
      "needs_background": "light"
     },
     "output_type": "display_data"
    }
   ],
   "source": [
    "figsize, ax = plt.subplots(2, 1, figsize=(9, 6))\n",
    "sns.countplot(x='month', data=df.query('member_type==\"Member\"'), ax=ax[0])\n",
    "sns.countplot(x='month', data=df.query('member_type==\"Casual\"'), ax=ax[1])"
   ]
  },
  {
   "cell_type": "markdown",
   "metadata": {},
   "source": [
    "> Members use the bikes more or less consistently during the warm months (April through October) while casual riders peak in April (cherry blossoms!) and in summer months "
   ]
  },
  {
   "cell_type": "code",
   "execution_count": 235,
   "metadata": {},
   "outputs": [
    {
     "data": {
      "text/plain": [
       "<seaborn.axisgrid.FacetGrid at 0x4812fccf8>"
      ]
     },
     "execution_count": 235,
     "metadata": {},
     "output_type": "execute_result"
    },
    {
     "data": {
      "image/png": "[encoded data removed]",
      "text/plain": [
       "<Figure size 720x360 with 2 Axes>"
      ]
     },
     "metadata": {
      "needs_background": "light"
     },
     "output_type": "display_data"
    }
   ],
   "source": [
    "sns.lmplot(x='duration_m', y='distance', col = 'member_type', data = df.query('duration < 20000'))"
   ]
  },
  {
   "cell_type": "markdown",
   "metadata": {},
   "source": [
    "# Stations"
   ]
  },
  {
   "cell_type": "code",
   "execution_count": 429,
   "metadata": {},
   "outputs": [],
   "source": [
    "# Get latitude and longitude from stations data\n",
    "stations_use = pd.merge(stations_use, stations, how='left', left_index=True, right_on='station_id')"
   ]
  },
  {
   "cell_type": "code",
   "execution_count": 385,
   "metadata": {},
   "outputs": [
    {
     "data": {
      "text/plain": [
       "(574, 8)"
      ]
     },
     "execution_count": 385,
     "metadata": {},
     "output_type": "execute_result"
    }
   ],
   "source": [
    "stations_use.shape"
   ]
  },
  {
   "cell_type": "code",
   "execution_count": 386,
   "metadata": {},
   "outputs": [
    {
     "data": {
      "text/html": [
       "<div>\n",
       "<style scoped>\n",
       "    .dataframe tbody tr th:only-of-type {\n",
       "        vertical-align: middle;\n",
       "    }\n",
       "\n",
       "    .dataframe tbody tr th {\n",
       "        vertical-align: top;\n",
       "    }\n",
       "\n",
       "    .dataframe thead th {\n",
       "        text-align: right;\n",
       "    }\n",
       "</style>\n",
       "<table border=\"1\" class=\"dataframe\">\n",
       "  <thead>\n",
       "    <tr style=\"text-align: right;\">\n",
       "      <th></th>\n",
       "      <th>station</th>\n",
       "      <th>start</th>\n",
       "      <th>end</th>\n",
       "      <th>usage</th>\n",
       "      <th>station_id</th>\n",
       "      <th>latitude</th>\n",
       "      <th>longitude</th>\n",
       "      <th>capacity</th>\n",
       "    </tr>\n",
       "  </thead>\n",
       "  <tbody>\n",
       "    <tr>\n",
       "      <th>460</th>\n",
       "      <td>Eads St &amp; 15th St S</td>\n",
       "      <td>86.0</td>\n",
       "      <td>81.0</td>\n",
       "      <td>167.0</td>\n",
       "      <td>31000.0</td>\n",
       "      <td>38.858971</td>\n",
       "      <td>-77.053230</td>\n",
       "      <td>15.0</td>\n",
       "    </tr>\n",
       "    <tr>\n",
       "      <th>461</th>\n",
       "      <td>18th &amp; Eads St.</td>\n",
       "      <td>109.0</td>\n",
       "      <td>111.0</td>\n",
       "      <td>220.0</td>\n",
       "      <td>31001.0</td>\n",
       "      <td>38.857250</td>\n",
       "      <td>-77.053320</td>\n",
       "      <td>11.0</td>\n",
       "    </tr>\n",
       "    <tr>\n",
       "      <th>462</th>\n",
       "      <td>Crystal Dr &amp; 20th St S</td>\n",
       "      <td>338.0</td>\n",
       "      <td>332.0</td>\n",
       "      <td>670.0</td>\n",
       "      <td>31002.0</td>\n",
       "      <td>38.856425</td>\n",
       "      <td>-77.049232</td>\n",
       "      <td>16.0</td>\n",
       "    </tr>\n",
       "    <tr>\n",
       "      <th>463</th>\n",
       "      <td>Crystal Dr &amp; 15th St S</td>\n",
       "      <td>229.0</td>\n",
       "      <td>239.0</td>\n",
       "      <td>468.0</td>\n",
       "      <td>31003.0</td>\n",
       "      <td>38.860170</td>\n",
       "      <td>-77.049593</td>\n",
       "      <td>11.0</td>\n",
       "    </tr>\n",
       "    <tr>\n",
       "      <th>464</th>\n",
       "      <td>Aurora Hills Cmty Ctr / 18th St &amp; S Hayes St</td>\n",
       "      <td>121.0</td>\n",
       "      <td>105.0</td>\n",
       "      <td>226.0</td>\n",
       "      <td>31004.0</td>\n",
       "      <td>38.857866</td>\n",
       "      <td>-77.059490</td>\n",
       "      <td>11.0</td>\n",
       "    </tr>\n",
       "  </tbody>\n",
       "</table>\n",
       "</div>"
      ],
      "text/plain": [
       "                                          station  start    end  usage  \\\n",
       "460                           Eads St & 15th St S   86.0   81.0  167.0   \n",
       "461                               18th & Eads St.  109.0  111.0  220.0   \n",
       "462                        Crystal Dr & 20th St S  338.0  332.0  670.0   \n",
       "463                        Crystal Dr & 15th St S  229.0  239.0  468.0   \n",
       "464  Aurora Hills Cmty Ctr / 18th St & S Hayes St  121.0  105.0  226.0   \n",
       "\n",
       "     station_id   latitude  longitude  capacity  \n",
       "460     31000.0  38.858971 -77.053230      15.0  \n",
       "461     31001.0  38.857250 -77.053320      11.0  \n",
       "462     31002.0  38.856425 -77.049232      16.0  \n",
       "463     31003.0  38.860170 -77.049593      11.0  \n",
       "464     31004.0  38.857866 -77.059490      11.0  "
      ]
     },
     "execution_count": 386,
     "metadata": {},
     "output_type": "execute_result"
    }
   ],
   "source": [
    "stations_use.head()"
   ]
  },
  {
   "cell_type": "code",
   "execution_count": 391,
   "metadata": {},
   "outputs": [
    {
     "data": {
      "text/plain": [
       "<matplotlib.axes._subplots.AxesSubplot at 0x150fb9780>"
      ]
     },
     "execution_count": 391,
     "metadata": {},
     "output_type": "execute_result"
    },
    {
     "data": {
      "image/png": "[encoded data removed]",
      "text/plain": [
       "<Figure size 432x288 with 1 Axes>"
      ]
     },
     "metadata": {
      "needs_background": "light"
     },
     "output_type": "display_data"
    }
   ],
   "source": [
    "sns.distplot(a=stations_use.usage, kde=False)"
   ]
  },
  {
   "cell_type": "markdown",
   "metadata": {},
   "source": [
    "> The usage distribution is heavily left-skewed, indicating many are underutilized and few get disporportionate amount of use."
   ]
  },
  {
   "cell_type": "code",
   "execution_count": 437,
   "metadata": {},
   "outputs": [
    {
     "data": {
      "image/png": "[encoded data removed]",
      "text/plain": [
       "<Figure size 648x1296 with 2 Axes>"
      ]
     },
     "metadata": {
      "needs_background": "light"
     },
     "output_type": "display_data"
    }
   ],
   "source": [
    "fig, ax = plt.subplots(2, 1, figsize=(9, 18))\n",
    "g1 = sns.scatterplot(x='longitude', y='latitude', size='usage', hue='usage', data=stations_use, s=20, ax=ax[0])\n",
    "ax[1].set(xlim=(-77.1, -76.95), ylim=(38.85, 39))\n",
    "\n",
    "g2 = sns.scatterplot(x='longitude', y='latitude', size='usage', hue='usage', data=stations_use, s=200, ax=ax[1]) # why doesn't the size work??\n",
    "for i in range(5):\n",
    "    x_coor = stations_use.iloc[i, ].longitude\n",
    "    y_coor = stations_use.iloc[i, ].latitude\n",
    "    name = stations_use.iloc[i, ].station\n",
    "    g2.text(x_coor, y_coor, name, horizontalalignment='left', size='medium', color='black', weight='semibold')"
   ]
  },
  {
   "cell_type": "markdown",
   "metadata": {},
   "source": []
  },
  {
   "cell_type": "code",
   "execution_count": 234,
   "metadata": {},
   "outputs": [
    {
     "data": {
      "text/plain": [
       "(576, 9)"
      ]
     },
     "execution_count": 234,
     "metadata": {},
     "output_type": "execute_result"
    }
   ],
   "source": [
    "stations.shape"
   ]
  },
  {
   "cell_type": "markdown",
   "metadata": {},
   "source": [
    "## Bike Usage"
   ]
  },
  {
   "cell_type": "code",
   "execution_count": 444,
   "metadata": {},
   "outputs": [
    {
     "data": {
      "text/html": [
       "<div>\n",
       "<style scoped>\n",
       "    .dataframe tbody tr th:only-of-type {\n",
       "        vertical-align: middle;\n",
       "    }\n",
       "\n",
       "    .dataframe tbody tr th {\n",
       "        vertical-align: top;\n",
       "    }\n",
       "\n",
       "    .dataframe thead th {\n",
       "        text-align: right;\n",
       "    }\n",
       "</style>\n",
       "<table border=\"1\" class=\"dataframe\">\n",
       "  <thead>\n",
       "    <tr style=\"text-align: right;\">\n",
       "      <th></th>\n",
       "      <th>0</th>\n",
       "    </tr>\n",
       "    <tr>\n",
       "      <th>bike_number</th>\n",
       "      <th></th>\n",
       "    </tr>\n",
       "  </thead>\n",
       "  <tbody>\n",
       "    <tr>\n",
       "      <th>21054</th>\n",
       "      <td>6</td>\n",
       "    </tr>\n",
       "    <tr>\n",
       "      <th>51020</th>\n",
       "      <td>1</td>\n",
       "    </tr>\n",
       "    <tr>\n",
       "      <th>51033</th>\n",
       "      <td>11</td>\n",
       "    </tr>\n",
       "    <tr>\n",
       "      <th>51045</th>\n",
       "      <td>7</td>\n",
       "    </tr>\n",
       "    <tr>\n",
       "      <th>65005</th>\n",
       "      <td>4</td>\n",
       "    </tr>\n",
       "    <tr>\n",
       "      <th>65009</th>\n",
       "      <td>13</td>\n",
       "    </tr>\n",
       "    <tr>\n",
       "      <th>65012</th>\n",
       "      <td>12</td>\n",
       "    </tr>\n",
       "    <tr>\n",
       "      <th>65033</th>\n",
       "      <td>13</td>\n",
       "    </tr>\n",
       "    <tr>\n",
       "      <th>65038</th>\n",
       "      <td>5</td>\n",
       "    </tr>\n",
       "    <tr>\n",
       "      <th>65043</th>\n",
       "      <td>10</td>\n",
       "    </tr>\n",
       "    <tr>\n",
       "      <th>70004</th>\n",
       "      <td>37</td>\n",
       "    </tr>\n",
       "    <tr>\n",
       "      <th>70015</th>\n",
       "      <td>8</td>\n",
       "    </tr>\n",
       "    <tr>\n",
       "      <th>70031</th>\n",
       "      <td>9</td>\n",
       "    </tr>\n",
       "    <tr>\n",
       "      <th>70047</th>\n",
       "      <td>7</td>\n",
       "    </tr>\n",
       "    <tr>\n",
       "      <th>70064</th>\n",
       "      <td>11</td>\n",
       "    </tr>\n",
       "    <tr>\n",
       "      <th>70079</th>\n",
       "      <td>13</td>\n",
       "    </tr>\n",
       "    <tr>\n",
       "      <th>70087</th>\n",
       "      <td>13</td>\n",
       "    </tr>\n",
       "    <tr>\n",
       "      <th>70105</th>\n",
       "      <td>16</td>\n",
       "    </tr>\n",
       "    <tr>\n",
       "      <th>70142</th>\n",
       "      <td>14</td>\n",
       "    </tr>\n",
       "    <tr>\n",
       "      <th>70151</th>\n",
       "      <td>3</td>\n",
       "    </tr>\n",
       "    <tr>\n",
       "      <th>70159</th>\n",
       "      <td>12</td>\n",
       "    </tr>\n",
       "    <tr>\n",
       "      <th>70172</th>\n",
       "      <td>13</td>\n",
       "    </tr>\n",
       "    <tr>\n",
       "      <th>70174</th>\n",
       "      <td>10</td>\n",
       "    </tr>\n",
       "    <tr>\n",
       "      <th>70231</th>\n",
       "      <td>24</td>\n",
       "    </tr>\n",
       "    <tr>\n",
       "      <th>70232</th>\n",
       "      <td>27</td>\n",
       "    </tr>\n",
       "    <tr>\n",
       "      <th>75400</th>\n",
       "      <td>4</td>\n",
       "    </tr>\n",
       "    <tr>\n",
       "      <th>75405</th>\n",
       "      <td>1</td>\n",
       "    </tr>\n",
       "    <tr>\n",
       "      <th>75409</th>\n",
       "      <td>7</td>\n",
       "    </tr>\n",
       "    <tr>\n",
       "      <th>75414</th>\n",
       "      <td>11</td>\n",
       "    </tr>\n",
       "    <tr>\n",
       "      <th>75415</th>\n",
       "      <td>9</td>\n",
       "    </tr>\n",
       "    <tr>\n",
       "      <th>...</th>\n",
       "      <td>...</td>\n",
       "    </tr>\n",
       "    <tr>\n",
       "      <th>W24822</th>\n",
       "      <td>3</td>\n",
       "    </tr>\n",
       "    <tr>\n",
       "      <th>W24823</th>\n",
       "      <td>1</td>\n",
       "    </tr>\n",
       "    <tr>\n",
       "      <th>W24829</th>\n",
       "      <td>1</td>\n",
       "    </tr>\n",
       "    <tr>\n",
       "      <th>W24832</th>\n",
       "      <td>1</td>\n",
       "    </tr>\n",
       "    <tr>\n",
       "      <th>W24834</th>\n",
       "      <td>1</td>\n",
       "    </tr>\n",
       "    <tr>\n",
       "      <th>W24835</th>\n",
       "      <td>1</td>\n",
       "    </tr>\n",
       "    <tr>\n",
       "      <th>W24836</th>\n",
       "      <td>3</td>\n",
       "    </tr>\n",
       "    <tr>\n",
       "      <th>W24838</th>\n",
       "      <td>2</td>\n",
       "    </tr>\n",
       "    <tr>\n",
       "      <th>W24839</th>\n",
       "      <td>1</td>\n",
       "    </tr>\n",
       "    <tr>\n",
       "      <th>W24840</th>\n",
       "      <td>2</td>\n",
       "    </tr>\n",
       "    <tr>\n",
       "      <th>W24841</th>\n",
       "      <td>1</td>\n",
       "    </tr>\n",
       "    <tr>\n",
       "      <th>W24842</th>\n",
       "      <td>3</td>\n",
       "    </tr>\n",
       "    <tr>\n",
       "      <th>W24843</th>\n",
       "      <td>1</td>\n",
       "    </tr>\n",
       "    <tr>\n",
       "      <th>W24844</th>\n",
       "      <td>1</td>\n",
       "    </tr>\n",
       "    <tr>\n",
       "      <th>W24845</th>\n",
       "      <td>2</td>\n",
       "    </tr>\n",
       "    <tr>\n",
       "      <th>W24846</th>\n",
       "      <td>1</td>\n",
       "    </tr>\n",
       "    <tr>\n",
       "      <th>W24847</th>\n",
       "      <td>1</td>\n",
       "    </tr>\n",
       "    <tr>\n",
       "      <th>W24858</th>\n",
       "      <td>1</td>\n",
       "    </tr>\n",
       "    <tr>\n",
       "      <th>W24859</th>\n",
       "      <td>1</td>\n",
       "    </tr>\n",
       "    <tr>\n",
       "      <th>W24860</th>\n",
       "      <td>1</td>\n",
       "    </tr>\n",
       "    <tr>\n",
       "      <th>W24864</th>\n",
       "      <td>1</td>\n",
       "    </tr>\n",
       "    <tr>\n",
       "      <th>W24865</th>\n",
       "      <td>1</td>\n",
       "    </tr>\n",
       "    <tr>\n",
       "      <th>W24869</th>\n",
       "      <td>1</td>\n",
       "    </tr>\n",
       "    <tr>\n",
       "      <th>W24870</th>\n",
       "      <td>3</td>\n",
       "    </tr>\n",
       "    <tr>\n",
       "      <th>W24872</th>\n",
       "      <td>1</td>\n",
       "    </tr>\n",
       "    <tr>\n",
       "      <th>W24875</th>\n",
       "      <td>1</td>\n",
       "    </tr>\n",
       "    <tr>\n",
       "      <th>W24877</th>\n",
       "      <td>2</td>\n",
       "    </tr>\n",
       "    <tr>\n",
       "      <th>W24878</th>\n",
       "      <td>1</td>\n",
       "    </tr>\n",
       "    <tr>\n",
       "      <th>W24880</th>\n",
       "      <td>2</td>\n",
       "    </tr>\n",
       "    <tr>\n",
       "      <th>W99910</th>\n",
       "      <td>1</td>\n",
       "    </tr>\n",
       "  </tbody>\n",
       "</table>\n",
       "<p>5924 rows × 1 columns</p>\n",
       "</div>"
      ],
      "text/plain": [
       "              0\n",
       "bike_number    \n",
       "21054         6\n",
       "51020         1\n",
       "51033        11\n",
       "51045         7\n",
       "65005         4\n",
       "65009        13\n",
       "65012        12\n",
       "65033        13\n",
       "65038         5\n",
       "65043        10\n",
       "70004        37\n",
       "70015         8\n",
       "70031         9\n",
       "70047         7\n",
       "70064        11\n",
       "70079        13\n",
       "70087        13\n",
       "70105        16\n",
       "70142        14\n",
       "70151         3\n",
       "70159        12\n",
       "70172        13\n",
       "70174        10\n",
       "70231        24\n",
       "70232        27\n",
       "75400         4\n",
       "75405         1\n",
       "75409         7\n",
       "75414        11\n",
       "75415         9\n",
       "...          ..\n",
       "W24822        3\n",
       "W24823        1\n",
       "W24829        1\n",
       "W24832        1\n",
       "W24834        1\n",
       "W24835        1\n",
       "W24836        3\n",
       "W24838        2\n",
       "W24839        1\n",
       "W24840        2\n",
       "W24841        1\n",
       "W24842        3\n",
       "W24843        1\n",
       "W24844        1\n",
       "W24845        2\n",
       "W24846        1\n",
       "W24847        1\n",
       "W24858        1\n",
       "W24859        1\n",
       "W24860        1\n",
       "W24864        1\n",
       "W24865        1\n",
       "W24869        1\n",
       "W24870        3\n",
       "W24872        1\n",
       "W24875        1\n",
       "W24877        2\n",
       "W24878        1\n",
       "W24880        2\n",
       "W99910        1\n",
       "\n",
       "[5924 rows x 1 columns]"
      ]
     },
     "execution_count": 444,
     "metadata": {},
     "output_type": "execute_result"
    }
   ],
   "source": [
    "df.groupby('bike_number').size().to_frame()"
   ]
  },
  {
   "cell_type": "code",
   "execution_count": null,
   "metadata": {},
   "outputs": [],
   "source": [
    "stations_use.capacity.sum()"
   ]
  },
  {
   "cell_type": "code",
   "execution_count": null,
   "metadata": {},
   "outputs": [],
   "source": []
  },
  {
   "cell_type": "code",
   "execution_count": null,
   "metadata": {},
   "outputs": [],
   "source": []
  },
  {
   "cell_type": "code",
   "execution_count": null,
   "metadata": {},
   "outputs": [],
   "source": []
  },
  {
   "cell_type": "code",
   "execution_count": null,
   "metadata": {},
   "outputs": [],
   "source": []
  }
 ],
 "metadata": {
  "kernelspec": {
   "display_name": "Python 3",
   "language": "python",
   "name": "python3"
  },
  "language_info": {
   "codemirror_mode": {
    "name": "ipython",
    "version": 3
   },
   "file_extension": ".py",
   "mimetype": "text/x-python",
   "name": "python",
   "nbconvert_exporter": "python",
   "pygments_lexer": "ipython3",
   "version": "3.6.8"
  }
 },
 "nbformat": 4,
 "nbformat_minor": 2
}
